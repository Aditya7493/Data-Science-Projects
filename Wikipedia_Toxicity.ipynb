{
 "cells": [
  {
   "cell_type": "code",
   "execution_count": 1,
   "id": "aa35adba-53d0-4165-a533-593eb3763708",
   "metadata": {},
   "outputs": [],
   "source": [
    "# Importing necessary libraries\n",
    "import pandas as pd\n",
    "import numpy as np\n",
    "import re\n",
    "import nltk\n",
    "from nltk import word_tokenize\n",
    "from nltk.corpus import stopwords\n",
    "from string import punctuation\n",
    "from collections import Counter\n",
    "from sklearn.model_selection import train_test_split\n",
    "from sklearn.feature_extraction.text import TfidfVectorizer\n",
    "from sklearn.svm import SVC\n",
    "from sklearn.linear_model import LogisticRegression\n",
    "from sklearn.metrics import confusion_matrix,classification_report,recall_score\n",
    "from sklearn.model_selection import GridSearchCV,StratifiedKFold\n",
    "import matplotlib.pyplot as plt\n",
    "import seaborn as sbn\n",
    "import warnings\n",
    "warnings.filterwarnings('ignore')\n",
    "#nltk.download('all')"
   ]
  },
  {
   "cell_type": "code",
   "execution_count": 2,
   "id": "55bc5619-61e7-4efd-8a9c-b90b64e0c637",
   "metadata": {},
   "outputs": [
    {
     "data": {
      "text/plain": [
       "(5000, 3)"
      ]
     },
     "execution_count": 2,
     "metadata": {},
     "output_type": "execute_result"
    }
   ],
   "source": [
    "# Reading the dataset\n",
    "wiki_data=pd.read_csv(\"train.csv\")\n",
    "wiki_data.shape"
   ]
  },
  {
   "cell_type": "markdown",
   "id": "10e784c1-c615-4a87-815f-74f078b6045d",
   "metadata": {},
   "source": [
    "##### The dataset has 5000 observations and 3 columns"
   ]
  },
  {
   "cell_type": "code",
   "execution_count": 3,
   "id": "a1166b93-228f-4948-a6f5-7468515ecb82",
   "metadata": {},
   "outputs": [
    {
     "data": {
      "text/html": [
       "<div>\n",
       "<style scoped>\n",
       "    .dataframe tbody tr th:only-of-type {\n",
       "        vertical-align: middle;\n",
       "    }\n",
       "\n",
       "    .dataframe tbody tr th {\n",
       "        vertical-align: top;\n",
       "    }\n",
       "\n",
       "    .dataframe thead th {\n",
       "        text-align: right;\n",
       "    }\n",
       "</style>\n",
       "<table border=\"1\" class=\"dataframe\">\n",
       "  <thead>\n",
       "    <tr style=\"text-align: right;\">\n",
       "      <th></th>\n",
       "      <th>id</th>\n",
       "      <th>comment_text</th>\n",
       "      <th>toxic</th>\n",
       "    </tr>\n",
       "  </thead>\n",
       "  <tbody>\n",
       "    <tr>\n",
       "      <th>0</th>\n",
       "      <td>e617e2489abe9bca</td>\n",
       "      <td>\"\\r\\n\\r\\n A barnstar for you! \\r\\n\\r\\n  The De...</td>\n",
       "      <td>0</td>\n",
       "    </tr>\n",
       "    <tr>\n",
       "      <th>1</th>\n",
       "      <td>9250cf637294e09d</td>\n",
       "      <td>\"\\r\\n\\r\\nThis seems unbalanced.  whatever I ha...</td>\n",
       "      <td>0</td>\n",
       "    </tr>\n",
       "    <tr>\n",
       "      <th>2</th>\n",
       "      <td>ce1aa4592d5240ca</td>\n",
       "      <td>Marya Dzmitruk was born in Minsk, Belarus in M...</td>\n",
       "      <td>0</td>\n",
       "    </tr>\n",
       "  </tbody>\n",
       "</table>\n",
       "</div>"
      ],
      "text/plain": [
       "                 id                                       comment_text  toxic\n",
       "0  e617e2489abe9bca  \"\\r\\n\\r\\n A barnstar for you! \\r\\n\\r\\n  The De...      0\n",
       "1  9250cf637294e09d  \"\\r\\n\\r\\nThis seems unbalanced.  whatever I ha...      0\n",
       "2  ce1aa4592d5240ca  Marya Dzmitruk was born in Minsk, Belarus in M...      0"
      ]
     },
     "execution_count": 3,
     "metadata": {},
     "output_type": "execute_result"
    }
   ],
   "source": [
    "#Inspecting the data\n",
    "wiki_data.head(3)"
   ]
  },
  {
   "cell_type": "code",
   "execution_count": 4,
   "id": "c3ab19d2-0009-4044-b906-ee911e1e2596",
   "metadata": {},
   "outputs": [],
   "source": [
    "# making an array of all comments for further processing\n",
    "wiki_comments=wiki_data.comment_text.values"
   ]
  },
  {
   "cell_type": "code",
   "execution_count": 5,
   "id": "a066e53f-fca0-462b-a9c9-17b7d570da39",
   "metadata": {},
   "outputs": [
    {
     "data": {
      "text/plain": [
       "array(['of course, here you go [1] [2] [3] [4] What kind of references are you looking for?\\r\\n\\r\\nTHANK YOU!\\r\\nNr 3 is perfect. Than we have both Gyulai and Csabai. The problem is that I never discovered how to add files to the article...',\n",
       "       'put a bigger delay in please \\r\\n\\r\\nEven if I try to zoom back seconds later to fix my failure, I get ECed.  Make a longer delay please (bot is annoying enough).71.127.137.171',\n",
       "       'YES/ Poland and Lithuania define marriage as a union between a man and a woman in thay constitutions just as several other countries in Europe e.g. Spain, France etc. They are not mentioned here. Why? \\r\\nAnd Latvia not only define marriage as a union between a man and a woman in its civil law and constitution (since 2006) but also bans same sex marriages in those acts. So it is the only country in Europe to do so. (first to BANN same sex marriage, and NOT third to define marriage...)\\r\\nThis article sugests that Poland and Lithuania do the same. and this is not truth! So, I say about it. In my opinion, it should to be corrected.',\n",
       "       '\"\\r\\n\\r\\n Brilliant \\r\\nYou really are brilliant. That\\'s 12 we\\'ve got on the software. You must have the Bill Evans Conversations With Myself. Ripper John - you\\'re better than we thought.  —\\xa0Preceding unsigned comment added by  (talk • contribs)  \"'],\n",
       "      dtype=object)"
      ]
     },
     "execution_count": 5,
     "metadata": {},
     "output_type": "execute_result"
    }
   ],
   "source": [
    "wiki_comments[11:15]"
   ]
  },
  {
   "cell_type": "markdown",
   "id": "cb239033-583f-4bc9-b103-ed880e2a0e8c",
   "metadata": {},
   "source": [
    "## Cleanup process:"
   ]
  },
  {
   "cell_type": "code",
   "execution_count": 6,
   "id": "503e234f-a5bc-4b4e-9654-e6f1e09f7393",
   "metadata": {},
   "outputs": [],
   "source": [
    "# removing special letters\n",
    "pattern1=\"\\r\\n\\s+\"\n",
    "pattern2=\"\\@\"\n",
    "pattern3=\"https://\\S+\" #removing URLs\n",
    "pattern4=\"\\d+\\.\\d+\" # removing IP address\n",
    "pattern5=\"\\r\\n\"\n",
    "pattern6=\"\\(\"\n",
    "pattern7=\"\\)\"\n",
    "pattern8=\"\\[ \\]\"\n",
    "\n",
    "wiki_comments=[i.lower() for i in wiki_comments] # case normalization\n",
    "wiki_comments=[re.sub(pattern1,\" \",i) for i in wiki_comments]\n",
    "wiki_comments=[re.sub(pattern2,\" \",i) for i in wiki_comments]\n",
    "wiki_comments=[re.sub(pattern3,\" \",i) for i in wiki_comments]\n",
    "wiki_comments=[re.sub(pattern4,\" \",i) for i in wiki_comments]\n",
    "wiki_comments=[re.sub(pattern5,\" \",i) for i in wiki_comments]\n",
    "wiki_comments=[re.sub(pattern6,\" \",i) for i in wiki_comments]\n",
    "wiki_comments=[re.sub(pattern7,\" \",i) for i in wiki_comments]\n",
    "wiki_comments=[re.sub(pattern8,\" \",i) for i in wiki_comments]"
   ]
  },
  {
   "cell_type": "code",
   "execution_count": 7,
   "id": "53568490-91a8-4230-82ce-9003410d2578",
   "metadata": {},
   "outputs": [
    {
     "data": {
      "text/plain": [
       "['of course, here you go [1] [2] [3] [4] what kind of references are you looking for? thank you! nr 3 is perfect. than we have both gyulai and csabai. the problem is that i never discovered how to add files to the article...',\n",
       " 'put a bigger delay in please  even if i try to zoom back seconds later to fix my failure, i get eced.  make a longer delay please  bot is annoying enough . . ',\n",
       " 'yes/ poland and lithuania define marriage as a union between a man and a woman in thay constitutions just as several other countries in europe e.g. spain, france etc. they are not mentioned here. why?  and latvia not only define marriage as a union between a man and a woman in its civil law and constitution  since 2006  but also bans same sex marriages in those acts. so it is the only country in europe to do so.  first to bann same sex marriage, and not third to define marriage...  this article sugests that poland and lithuania do the same. and this is not truth! so, i say about it. in my opinion, it should to be corrected.',\n",
       " '\" brilliant  you really are brilliant. that\\'s 12 we\\'ve got on the software. you must have the bill evans conversations with myself. ripper john - you\\'re better than we thought.  —\\xa0preceding unsigned comment added by   talk • contribs   \"']"
      ]
     },
     "execution_count": 7,
     "metadata": {},
     "output_type": "execute_result"
    }
   ],
   "source": [
    "wiki_comments[11:15]"
   ]
  },
  {
   "cell_type": "markdown",
   "id": "4869932e-971f-43d9-98f2-d465d8948a3c",
   "metadata": {},
   "source": [
    "# Tokenization"
   ]
  },
  {
   "cell_type": "code",
   "execution_count": 8,
   "id": "a4145765-176a-4ae7-805b-45541e2d78af",
   "metadata": {},
   "outputs": [],
   "source": [
    "wiki_comments_tkn=[word_tokenize(i) for i in wiki_comments]"
   ]
  },
  {
   "cell_type": "code",
   "execution_count": 9,
   "id": "7ba9467e-6e5b-4e55-a614-5be3dc39eb86",
   "metadata": {},
   "outputs": [
    {
     "name": "stdout",
     "output_type": "stream",
     "text": [
      "[['``', 'a', 'barnstar', 'for', 'you', '!', 'the', 'defender', 'of', 'the', 'wiki', 'barnstar', 'i', 'like', 'your', 'edit', 'on', 'the', 'kayastha', 'page', '.', 'lets', 'form', 'a', 'solidarity', 'group', 'against', 'those', 'who', 'malign', 'the', 'article', 'and', 'its', 'subject', 'matter', '.', 'i', 'propose', 'the', 'folloing', 'name', 'for', 'the', 'group', '.', 'united', 'intellectuals', \"'\", 'front', 'of', 'kayastha', 'ethinicty', 'against', 'racist', 'or', 'castist', 'abuse', 'uifkearca', '``'], ['``', 'this', 'seems', 'unbalanced', '.', 'whatever', 'i', 'have', 'said', 'about', 'mathsci', ',', 'he', 'has', 'said', 'far', 'more', 'extreme', 'and', 'unpleasant', 'things', 'about', 'me', 'not', 'to', 'mention', 'others', ',', 'and', 'with', 'much', 'greater', 'frequency', '.', 'i', \"'m\", 'more', 'than', 'happy', 'to', 'reign', 'myself', 'in', ',', 'if', 'that', \"'s\", 'what', 'you', \"'d\", 'like', 'ruth', 'be', 'told', ',', 'i', 'was', 'just', 'trying', 'to', 'get', 'mathsci', 'to', 'pay', 'attention', 'and', 'stop', 'being', 'uncivil', '.', 'i', 'would', 'expect', 'you', 'to', 'issue', 'the', 'same', 'request', 'to', 'mathsci', '.', 'if', 'this', 'is', 'intentionally', 'unbalanced', 'for', 'whatever', 'reason', ',', 'please', 'let', 'me', 'know', ',', 'and', 'i', 'will', 'voluntarily', 'close', 'this', 'account', 'and', 'move', 'on', 'to', 'other', 'things', '.', 'i', 'like', 'wikipedia', ',', 'and', 'i', 'have', 'a', 'lot', 'to', 'contribute', 'in', 'my', 'own', 'way', ',', 'but', 'there', 'is', 'no', 'point', 'contributing', 'to', 'the', 'project', 'if', 'some', 'editors', 'have', 'administrative', 'leave', 'to', 'be', 'aggressively', 'rude', '.', 'i', \"'m\", 'a', 'good', 'editor', ',', 'and', 'i', 'do', \"n't\", 'really', 'deserve', 'to', 'have', 'people', 'riding', 'my', 'ass', 'every', 'time', 'i', 'try', 'to', 'do', 'certain', 'things', '.', 'i', \"'ll\", 'happily', 'leave', 'it', 'in', 'the', 'hands', 'of', 'the', 'drama-prone', ',', 'if', 'that', \"'s\", 'what', 'you', 'think', 'is', 'best', '.', 'ludwigs2', '``']]\n"
     ]
    }
   ],
   "source": [
    "print(wiki_comments_tkn[:2])"
   ]
  },
  {
   "cell_type": "markdown",
   "id": "05ac295f-d55f-4fad-a92f-0279c0532ae4",
   "metadata": {},
   "source": [
    "# Removing Stop words and Punctuations"
   ]
  },
  {
   "cell_type": "code",
   "execution_count": 10,
   "id": "f43f2a5f-971c-4eaa-8fba-869538f67824",
   "metadata": {},
   "outputs": [],
   "source": [
    "stp_wrd=list(stopwords.words('english'))\n",
    "punct=list(punctuation)\n",
    "addional_pattern=['...',\"'\",\"'\\'\",'``']\n",
    "\n",
    "final_stop_list=stp_wrd+punct+addional_pattern"
   ]
  },
  {
   "cell_type": "code",
   "execution_count": 11,
   "id": "64eb44d9-2750-4b28-bd1e-db747b6ef79d",
   "metadata": {},
   "outputs": [
    {
     "name": "stdout",
     "output_type": "stream",
     "text": [
      "['i', 'me', 'my', 'myself', 'we', 'our', 'ours', 'ourselves', 'you', \"you're\", \"you've\", \"you'll\", \"you'd\", 'your', 'yours', 'yourself', 'yourselves', 'he', 'him', 'his', 'himself', 'she', \"she's\", 'her', 'hers', 'herself', 'it', \"it's\", 'its', 'itself', 'they', 'them', 'their', 'theirs', 'themselves', 'what', 'which', 'who', 'whom', 'this', 'that', \"that'll\", 'these', 'those', 'am', 'is', 'are', 'was', 'were', 'be', 'been', 'being', 'have', 'has', 'had', 'having', 'do', 'does', 'did', 'doing', 'a', 'an', 'the', 'and', 'but', 'if', 'or', 'because', 'as', 'until', 'while', 'of', 'at', 'by', 'for', 'with', 'about', 'against', 'between', 'into', 'through', 'during', 'before', 'after', 'above', 'below', 'to', 'from', 'up', 'down', 'in', 'out', 'on', 'off', 'over', 'under', 'again', 'further', 'then', 'once', 'here', 'there', 'when', 'where', 'why', 'how', 'all', 'any', 'both', 'each', 'few', 'more', 'most', 'other', 'some', 'such', 'no', 'nor', 'not', 'only', 'own', 'same', 'so', 'than', 'too', 'very', 's', 't', 'can', 'will', 'just', 'don', \"don't\", 'should', \"should've\", 'now', 'd', 'll', 'm', 'o', 're', 've', 'y', 'ain', 'aren', \"aren't\", 'couldn', \"couldn't\", 'didn', \"didn't\", 'doesn', \"doesn't\", 'hadn', \"hadn't\", 'hasn', \"hasn't\", 'haven', \"haven't\", 'isn', \"isn't\", 'ma', 'mightn', \"mightn't\", 'mustn', \"mustn't\", 'needn', \"needn't\", 'shan', \"shan't\", 'shouldn', \"shouldn't\", 'wasn', \"wasn't\", 'weren', \"weren't\", 'won', \"won't\", 'wouldn', \"wouldn't\", '!', '\"', '#', '$', '%', '&', \"'\", '(', ')', '*', '+', ',', '-', '.', '/', ':', ';', '<', '=', '>', '?', '@', '[', '\\\\', ']', '^', '_', '`', '{', '|', '}', '~', '...', \"'\", \"''\", '``']\n"
     ]
    }
   ],
   "source": [
    "print(final_stop_list)"
   ]
  },
  {
   "cell_type": "code",
   "execution_count": 12,
   "id": "c858c7c9-c41c-4c6a-87d2-016170447a1e",
   "metadata": {},
   "outputs": [],
   "source": [
    "# defining function for removing stopwords and punctuations\n",
    "def clean_txt(txt):\n",
    "    return [j for j in txt if j not in final_stop_list]          "
   ]
  },
  {
   "cell_type": "code",
   "execution_count": 13,
   "id": "a7cb38db-2274-40da-af51-2fe4a6fbd3ea",
   "metadata": {},
   "outputs": [],
   "source": [
    "wiki_comments_tkn_clean=[clean_txt(txt )for txt in wiki_comments_tkn]"
   ]
  },
  {
   "cell_type": "code",
   "execution_count": 14,
   "id": "ad92646a-d5ac-4e43-bef8-bd47cb9d2820",
   "metadata": {},
   "outputs": [
    {
     "name": "stdout",
     "output_type": "stream",
     "text": [
      "[['barnstar', 'defender', 'wiki', 'barnstar', 'like', 'edit', 'kayastha', 'page', 'lets', 'form', 'solidarity', 'group', 'malign', 'article', 'subject', 'matter', 'propose', 'folloing', 'name', 'group', 'united', 'intellectuals', 'front', 'kayastha', 'ethinicty', 'racist', 'castist', 'abuse', 'uifkearca'], ['seems', 'unbalanced', 'whatever', 'said', 'mathsci', 'said', 'far', 'extreme', 'unpleasant', 'things', 'mention', 'others', 'much', 'greater', 'frequency', \"'m\", 'happy', 'reign', \"'s\", \"'d\", 'like', 'ruth', 'told', 'trying', 'get', 'mathsci', 'pay', 'attention', 'stop', 'uncivil', 'would', 'expect', 'issue', 'request', 'mathsci', 'intentionally', 'unbalanced', 'whatever', 'reason', 'please', 'let', 'know', 'voluntarily', 'close', 'account', 'move', 'things', 'like', 'wikipedia', 'lot', 'contribute', 'way', 'point', 'contributing', 'project', 'editors', 'administrative', 'leave', 'aggressively', 'rude', \"'m\", 'good', 'editor', \"n't\", 'really', 'deserve', 'people', 'riding', 'ass', 'every', 'time', 'try', 'certain', 'things', \"'ll\", 'happily', 'leave', 'hands', 'drama-prone', \"'s\", 'think', 'best', 'ludwigs2']]\n"
     ]
    }
   ],
   "source": [
    "print(wiki_comments_tkn_clean[:2])"
   ]
  },
  {
   "cell_type": "code",
   "execution_count": 15,
   "id": "4f43508a-bea1-4298-ac6b-8efc76497340",
   "metadata": {},
   "outputs": [],
   "source": [
    "# Preparing 1 whole list from list of lists for counter\n",
    "counter_lst=[]\n",
    "for i in wiki_comments_tkn_clean:\n",
    "    for j in i:\n",
    "        counter_lst.append(j)    "
   ]
  },
  {
   "cell_type": "code",
   "execution_count": 16,
   "id": "587414cc-78a7-46ec-9efe-cd2da9f0f159",
   "metadata": {},
   "outputs": [],
   "source": [
    "cntr=Counter(counter_lst)"
   ]
  },
  {
   "cell_type": "code",
   "execution_count": 17,
   "id": "9337643e-5133-41ca-9e2d-4e9b3d1340e5",
   "metadata": {},
   "outputs": [
    {
     "data": {
      "text/plain": [
       "[(\"'s\", 1989),\n",
       " (\"n't\", 1795),\n",
       " ('article', 1714),\n",
       " ('page', 1501),\n",
       " ('wikipedia', 1424),\n",
       " ('talk', 1169),\n",
       " ('please', 1039),\n",
       " ('would', 1007),\n",
       " ('ass', 986),\n",
       " ('fuck', 905),\n",
       " ('one', 861),\n",
       " ('like', 836),\n",
       " ('also', 657),\n",
       " ('see', 631),\n",
       " ('think', 630)]"
      ]
     },
     "execution_count": 17,
     "metadata": {},
     "output_type": "execute_result"
    }
   ],
   "source": [
    "cntr.most_common(15)"
   ]
  },
  {
   "cell_type": "code",
   "execution_count": 18,
   "id": "87c3f3ed-9ca9-40c0-aeac-a173df7ce99c",
   "metadata": {},
   "outputs": [],
   "source": [
    "#preparing the list of contenxtual words\n",
    "contextual_words=[\"'s\",\"n't\",'article','page','wikipedia','wiki']"
   ]
  },
  {
   "cell_type": "code",
   "execution_count": 19,
   "id": "954c0801-9097-4895-ae64-ed77d3c4f71d",
   "metadata": {},
   "outputs": [],
   "source": [
    "def remove_context(txt):\n",
    "    return[i for i in txt if i not in contextual_words]\n",
    "\n",
    "wiki_comments_tkn_clean=[remove_context(txt) for txt in wiki_comments_tkn_clean]"
   ]
  },
  {
   "cell_type": "code",
   "execution_count": 20,
   "id": "2b80296b-f4d0-4703-b8aa-c441c4e632c7",
   "metadata": {},
   "outputs": [
    {
     "name": "stdout",
     "output_type": "stream",
     "text": [
      "[['barnstar', 'defender', 'barnstar', 'like', 'edit', 'kayastha', 'lets', 'form', 'solidarity', 'group', 'malign', 'subject', 'matter', 'propose', 'folloing', 'name', 'group', 'united', 'intellectuals', 'front', 'kayastha', 'ethinicty', 'racist', 'castist', 'abuse', 'uifkearca']]\n"
     ]
    }
   ],
   "source": [
    "print(wiki_comments_tkn_clean[:1])"
   ]
  },
  {
   "cell_type": "markdown",
   "id": "44944508-d862-444c-83da-001e8d03cfd1",
   "metadata": {},
   "source": [
    "# creating Tf-idf matrix and dividing the data in train and test"
   ]
  },
  {
   "cell_type": "code",
   "execution_count": 21,
   "id": "7bff51bf-83a0-41fd-a250-fe0ae4e7ee60",
   "metadata": {},
   "outputs": [],
   "source": [
    "wiki_comments_tkn_clean=[\" \".join(i) for i in wiki_comments_tkn_clean]"
   ]
  },
  {
   "cell_type": "code",
   "execution_count": 22,
   "id": "f0122442-1e46-47c6-80d9-64799d19e239",
   "metadata": {},
   "outputs": [
    {
     "data": {
      "text/plain": [
       "['barnstar defender barnstar like edit kayastha lets form solidarity group malign subject matter propose folloing name group united intellectuals front kayastha ethinicty racist castist abuse uifkearca',\n",
       " \"seems unbalanced whatever said mathsci said far extreme unpleasant things mention others much greater frequency 'm happy reign 'd like ruth told trying get mathsci pay attention stop uncivil would expect issue request mathsci intentionally unbalanced whatever reason please let know voluntarily close account move things like lot contribute way point contributing project editors administrative leave aggressively rude 'm good editor really deserve people riding ass every time try certain things 'll happily leave hands drama-prone think best ludwigs2\"]"
      ]
     },
     "execution_count": 22,
     "metadata": {},
     "output_type": "execute_result"
    }
   ],
   "source": [
    "wiki_comments_tkn_clean[:2]"
   ]
  },
  {
   "cell_type": "code",
   "execution_count": 23,
   "id": "ca0d3263-fe1d-492e-bf1e-152271151589",
   "metadata": {},
   "outputs": [],
   "source": [
    "X=wiki_comments_tkn_clean\n",
    "Y=wiki_data.toxic"
   ]
  },
  {
   "cell_type": "code",
   "execution_count": 24,
   "id": "b6917760-ba75-4469-b805-8af5491ca366",
   "metadata": {},
   "outputs": [],
   "source": [
    "x_train,x_test,y_train,y_test=train_test_split(X,Y,test_size=0.3,random_state=42)"
   ]
  },
  {
   "cell_type": "code",
   "execution_count": 25,
   "id": "22304e3f-078d-45dd-b3ba-71a0da23a51c",
   "metadata": {},
   "outputs": [
    {
     "data": {
      "text/plain": [
       "['p.s.you really something life looked around userpage anda monastic deacon catholic church catholic church wow things work good luck maybe could even one day rise rank archdeacon keyn eynhore sorry forgot speak english jolz gutentag goyishe kup',\n",
       " 'ca ca create best friend']"
      ]
     },
     "execution_count": 25,
     "metadata": {},
     "output_type": "execute_result"
    }
   ],
   "source": [
    "x_train[:2]"
   ]
  },
  {
   "cell_type": "code",
   "execution_count": 26,
   "id": "b4e94cb4-d8f6-45f3-8b7b-88f365b605e0",
   "metadata": {},
   "outputs": [],
   "source": [
    "# Tf-idf vectorizer\n",
    "tfidf_vect=TfidfVectorizer(max_features=4000)"
   ]
  },
  {
   "cell_type": "code",
   "execution_count": 27,
   "id": "0656280b-83d7-4c15-8fea-f29af6117508",
   "metadata": {},
   "outputs": [],
   "source": [
    "x_train_vect=tfidf_vect.fit_transform(x_train)\n",
    "x_test_vect=tfidf_vect.transform(x_test)"
   ]
  },
  {
   "cell_type": "markdown",
   "id": "a14ff29b-cab5-42fb-9db5-2705d1272cf0",
   "metadata": {},
   "source": [
    "# Machine learning section"
   ]
  },
  {
   "cell_type": "code",
   "execution_count": 28,
   "id": "228715ec-491e-4578-8949-c3f76a6f3b6c",
   "metadata": {},
   "outputs": [],
   "source": [
    "#Creating the instance of model SVC\n",
    "svc_model=SVC(kernel='linear')\n",
    "\n",
    "#Training the model with training data\n",
    "svc_model.fit(x_train_vect,y_train)\n",
    "\n",
    "# predicting the results with the trained model\n",
    "svc_pred_test=svc_model.predict(x_test_vect)"
   ]
  },
  {
   "cell_type": "code",
   "execution_count": 29,
   "id": "3afca3b9-3c19-4431-9c64-86548086a930",
   "metadata": {},
   "outputs": [
    {
     "data": {
      "image/png": "[encoded data removed]",
      "text/plain": [
       "<Figure size 600x400 with 2 Axes>"
      ]
     },
     "metadata": {},
     "output_type": "display_data"
    }
   ],
   "source": [
    "plt.figure(figsize=(6,4))\n",
    "sbn.heatmap(confusion_matrix(svc_pred_test,y_test),cmap='coolwarm',annot=True,fmt='d') \n",
    "plt.xlabel(\"Predicted\")\n",
    "plt.ylabel(\"Actual\")\n",
    "plt.savefig(\"Confusion matrix_SVC_Before sampling\")"
   ]
  },
  {
   "cell_type": "code",
   "execution_count": 30,
   "id": "704acbaa-7495-4564-ab16-c3e8c9388518",
   "metadata": {},
   "outputs": [
    {
     "name": "stdout",
     "output_type": "stream",
     "text": [
      "              precision    recall  f1-score   support\n",
      "\n",
      "           0       1.00      0.95      0.97      1438\n",
      "           1       0.45      0.97      0.62        62\n",
      "\n",
      "    accuracy                           0.95      1500\n",
      "   macro avg       0.72      0.96      0.79      1500\n",
      "weighted avg       0.98      0.95      0.96      1500\n",
      "\n"
     ]
    }
   ],
   "source": [
    "print(classification_report(svc_pred_test,y_test))"
   ]
  },
  {
   "cell_type": "code",
   "execution_count": null,
   "id": "bf913bfa-8d65-4cf6-9278-894f37cd49e6",
   "metadata": {},
   "outputs": [],
   "source": []
  },
  {
   "cell_type": "code",
   "execution_count": 31,
   "id": "9d0e7c6e-42aa-43c7-927e-abf8bc3ca87b",
   "metadata": {},
   "outputs": [
    {
     "data": {
      "image/png": "[encoded data removed]",
      "text/plain": [
       "<Figure size 800x600 with 1 Axes>"
      ]
     },
     "metadata": {},
     "output_type": "display_data"
    }
   ],
   "source": [
    "# we will analyze the 1's and 0's portion-if there is any class imbalance\n",
    "size=Y.value_counts(sort=True)\n",
    "label=Y.value_counts(sort=True).index\n",
    "color=['crimson','whitesmoke']\n",
    "explode=(0.2,0)\n",
    "plt.figure(figsize=(8,6))\n",
    "plt.pie(size,labels=label,colors=color,radius=1,explode=explode,autopct='%1.2f%%',shadow=True,startangle=45)\n",
    "plt.title(\"Proportions of 0s and 1s in the data\")\n",
    "plt.savefig(\"Proportions of 0s and 1s in the data\")"
   ]
  },
  {
   "cell_type": "markdown",
   "id": "84980c01-1cc8-4be8-b90b-d5785d910f29",
   "metadata": {},
   "source": [
    "### From the above figure we can see that the data is highly imbalanced"
   ]
  },
  {
   "cell_type": "markdown",
   "id": "ff932b9c-3468-4d76-b5ef-3600a6c2294d",
   "metadata": {},
   "source": [
    "## We will use gridsearch and strtified sampling to see if we can get better result\n",
    "\n"
   ]
  },
  {
   "cell_type": "code",
   "execution_count": 32,
   "id": "24194b41-58e2-4534-9d7e-2f2cda19f1d3",
   "metadata": {},
   "outputs": [],
   "source": [
    "#creating then instance of stratifiedkfold\n",
    "sfk=StratifiedKFold(n_splits=5,shuffle=True,random_state=42)\n",
    "\n",
    "X_vect=tfidf_vect.fit_transform(X)\n",
    "\n",
    "#getting the splits\n",
    "\n",
    "for train_index,test_index in sfk.split(X_vect,Y):\n",
    "    x_train,x_test=X_vect[train_index],X_vect[test_index]\n",
    "    y_train,y_test=Y[train_index],Y[test_index]\n",
    "    \n",
    "    "
   ]
  },
  {
   "cell_type": "code",
   "execution_count": 33,
   "id": "2ec58c19-8558-49aa-bc75-bfce1efc60c7",
   "metadata": {},
   "outputs": [
    {
     "data": {
      "text/plain": [
       "GridSearchCV(cv=5, estimator=SVC(kernel='linear'),\n",
       "             param_grid={'C': [100, 0, 200, 1000, 300],\n",
       "                         'class_weight': ['balanced', None]},\n",
       "             scoring='recall')"
      ]
     },
     "execution_count": 33,
     "metadata": {},
     "output_type": "execute_result"
    }
   ],
   "source": [
    "# We will define hyperparameters\n",
    "\n",
    "hyper_parameters={'C':[100,0,200,1000,300],'class_weight':['balanced',None]}\n",
    "\n",
    "gscv=GridSearchCV(svc_model,hyper_parameters,scoring='recall',cv=5)\n",
    "\n",
    "gscv.fit(x_train,y_train)\n",
    "\n"
   ]
  },
  {
   "cell_type": "code",
   "execution_count": 34,
   "id": "4b21730a-dc2d-4d33-83c6-bab0f9c5bfa1",
   "metadata": {},
   "outputs": [
    {
     "name": "stdout",
     "output_type": "stream",
     "text": [
      "{'C': 100, 'class_weight': 'balanced'}\n",
      "0.6563561076604554\n"
     ]
    }
   ],
   "source": [
    "print(gscv.best_params_)\n",
    "print(gscv.best_score_)"
   ]
  },
  {
   "cell_type": "code",
   "execution_count": 35,
   "id": "eaf0e401-0d38-44de-b5bf-b7050df22e3b",
   "metadata": {},
   "outputs": [],
   "source": [
    "#Creating the instance of model SVC\n",
    "svc_model_1=SVC(kernel='linear',**gscv.best_params_)\n",
    "\n",
    "#Training the model with training data\n",
    "svc_model_1.fit(x_train,y_train)\n",
    "\n",
    "# predicting the results with the trained model\n",
    "svc_pred_test_1=svc_model_1.predict(x_test)"
   ]
  },
  {
   "cell_type": "code",
   "execution_count": 36,
   "id": "fc000a87-3e7c-4484-93fe-f123fc0ea55a",
   "metadata": {},
   "outputs": [
    {
     "data": {
      "image/png": "[encoded data removed]",
      "text/plain": [
       "<Figure size 600x400 with 2 Axes>"
      ]
     },
     "metadata": {},
     "output_type": "display_data"
    }
   ],
   "source": [
    "plt.figure(figsize=(6,4))\n",
    "sbn.heatmap(confusion_matrix(svc_pred_test_1,y_test),cmap='coolwarm',annot=True,fmt='d') \n",
    "plt.xlabel(\"Predicted\")\n",
    "plt.ylabel(\"Actual\")\n",
    "plt.savefig(\"Confusion matrix_SVC_after sampling\")"
   ]
  },
  {
   "cell_type": "code",
   "execution_count": 37,
   "id": "587ccf02-ae53-42ee-93a7-d5c99a82e5e5",
   "metadata": {},
   "outputs": [
    {
     "name": "stdout",
     "output_type": "stream",
     "text": [
      "              precision    recall  f1-score   support\n",
      "\n",
      "           0       0.89      0.97      0.93       836\n",
      "           1       0.72      0.38      0.50       164\n",
      "\n",
      "    accuracy                           0.87      1000\n",
      "   macro avg       0.80      0.68      0.71      1000\n",
      "weighted avg       0.86      0.87      0.86      1000\n",
      "\n"
     ]
    }
   ],
   "source": [
    "print(classification_report(svc_pred_test_1,y_test))"
   ]
  },
  {
   "cell_type": "markdown",
   "id": "a5af3ede-598b-43f8-ab34-6f0cd128ffaf",
   "metadata": {},
   "source": [
    "# We will use logistic regression to see if we get better result"
   ]
  },
  {
   "cell_type": "code",
   "execution_count": 38,
   "id": "392c6b2e-dd00-463d-ae60-e609a94dac2b",
   "metadata": {},
   "outputs": [],
   "source": [
    "x_train_log,x_test_log,y_train_log,y_test_log=train_test_split(X,Y,test_size=0.3,random_state=42)\n",
    "\n",
    "x_train_log_vect=tfidf_vect.fit_transform(x_train_log)\n",
    "x_test_log_vect=tfidf_vect.transform(x_test_log)"
   ]
  },
  {
   "cell_type": "code",
   "execution_count": 39,
   "id": "c548298a-0681-463d-a303-f2115a9652ab",
   "metadata": {},
   "outputs": [
    {
     "data": {
      "text/plain": [
       "GridSearchCV(cv=5, estimator=LogisticRegression(),\n",
       "             param_grid={'C': [10, 100, 200, 500, 1000],\n",
       "                         'class_weight': ['balanced', None],\n",
       "                         'penalty': ['l1', 'l2']},\n",
       "             scoring='recall')"
      ]
     },
     "execution_count": 39,
     "metadata": {},
     "output_type": "execute_result"
    }
   ],
   "source": [
    "log_reg_model=LogisticRegression()\n",
    "\n",
    "hyper_param={'C':[10,100,200,500,1000],'class_weight':['balanced',None],'penalty':['l1','l2']}\n",
    "\n",
    "gscv_log=GridSearchCV(log_reg_model, hyper_param,scoring='recall',cv=5)\n",
    "\n",
    "gscv_log.fit(x_train_log_vect,y_train_log)"
   ]
  },
  {
   "cell_type": "code",
   "execution_count": 40,
   "id": "ca29580b-adbe-45e4-b235-866a0880d9c5",
   "metadata": {},
   "outputs": [
    {
     "name": "stdout",
     "output_type": "stream",
     "text": [
      "{'C': 500, 'class_weight': 'balanced', 'penalty': 'l2'}\n",
      "0.6020765027322403\n"
     ]
    }
   ],
   "source": [
    "print(gscv_log.best_params_)\n",
    "print(gscv_log.best_score_)"
   ]
  },
  {
   "cell_type": "markdown",
   "id": "eab7d8ae-bb65-4882-b67b-a9e12a412bde",
   "metadata": {},
   "source": [
    "# Conslcusion: We are getting bgetter results with SVC before sampling"
   ]
  },
  {
   "cell_type": "code",
   "execution_count": null,
   "id": "b6d4c1ce-5150-427f-bb90-05c339a16238",
   "metadata": {},
   "outputs": [],
   "source": []
  }
 ],
 "metadata": {
  "kernelspec": {
   "display_name": "Python 3 (ipykernel)",
   "language": "python",
   "name": "python3"
  },
  "language_info": {
   "codemirror_mode": {
    "name": "ipython",
    "version": 3
   },
   "file_extension": ".py",
   "mimetype": "text/x-python",
   "name": "python",
   "nbconvert_exporter": "python",
   "pygments_lexer": "ipython3",
   "version": "3.9.13"
  }
 },
 "nbformat": 4,
 "nbformat_minor": 5
}
